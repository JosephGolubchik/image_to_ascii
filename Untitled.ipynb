{
 "cells": [
  {
   "cell_type": "code",
   "execution_count": 169,
   "metadata": {},
   "outputs": [],
   "source": [
    "import PIL\n",
    "from PIL import ImageFont\n",
    "from PIL import Image\n",
    "from PIL import ImageDraw\n",
    "import numpy as np"
   ]
  },
  {
   "cell_type": "code",
   "execution_count": 3,
   "metadata": {},
   "outputs": [],
   "source": [
    "font = ImageFont.truetype(\"Courier.ttf\",25)"
   ]
  },
  {
   "cell_type": "code",
   "execution_count": 4,
   "metadata": {},
   "outputs": [],
   "source": [
    "ascii_img = Image.open(\"ascii.png\");\n",
    "ascii_img = ascii_img.convert(mode='L')"
   ]
  },
  {
   "cell_type": "code",
   "execution_count": 33,
   "metadata": {},
   "outputs": [],
   "source": [
    "chars = ['!','\"','#','$','%','&','\\'','(',')','*','+',',','-','.','/',\n",
    "         '0','1','2','3','4','5','6','7','8','9',':',';','<','=','>',\n",
    "         '?','@','A','B','C','D','E','F','G','H','I','J','K','L','M',\n",
    "         'N','O','P','Q','R','S','T','U','V','W','X','Y','Z','[','\\\\',\n",
    "         ']','^','_','`','a','b','c','d','e','f','g','h','i','j','k',\n",
    "         'l','m','n','o','p','q','r','s','t','u','v','w','x','y','z',\n",
    "         '{',':','}','~']\n",
    "values = []\n",
    "crops = []\n",
    "for i in range(len(chars)):  \n",
    "    white = 0\n",
    "    crop = ascii_img.crop((i*8, 0, i*8+8, ascii_img.height))\n",
    "    crops.append(crop)\n",
    "    crop_array = np.array(crop)\n",
    "    for row in crop_array:\n",
    "        for pixel in row:\n",
    "            if (pixel != 0):\n",
    "                white += 1\n",
    "    values.append((chars[i], round(white/45,5)))\n",
    "values.append((' ', 0))\n"
   ]
  },
  {
   "cell_type": "code",
   "execution_count": 48,
   "metadata": {},
   "outputs": [],
   "source": [
    "from operator import itemgetter\n",
    "values.sort(key=itemgetter(1),reverse=False)"
   ]
  },
  {
   "cell_type": "code",
   "execution_count": 49,
   "metadata": {},
   "outputs": [],
   "source": [
    "values_map = []\n",
    "value_indexes = []\n",
    "for tup in values:\n",
    "    if tup[1] not in value_indexes:\n",
    "        values_map.append((tup[1], [tup[0]]))\n",
    "        value_indexes.append(tup[1])\n",
    "    else:\n",
    "        index = value_indexes.index(tup[1])\n",
    "        values_map[index][1].append(tup[0])"
   ]
  },
  {
   "cell_type": "code",
   "execution_count": 50,
   "metadata": {},
   "outputs": [
    {
     "data": {
      "text/plain": [
       "[(0, [' ']),\n",
       " (0.13333, ['.']),\n",
       " (0.15556, ['-', '_', '`']),\n",
       " (0.17778, [\"'\", ',']),\n",
       " (0.26667, [':', '=', '^']),\n",
       " (0.31111, ['\"', '/', '\\\\', '~']),\n",
       " (0.33333, ['+']),\n",
       " (0.35556, [';', ':']),\n",
       " (0.4, ['(', ')', '<', '>']),\n",
       " (0.44444, ['%', '?', 'c', 's', '{', '}']),\n",
       " (0.48889, ['!', 'I', '[', ']', 'i', 't', 'v', 'x', 'z']),\n",
       " (0.51111, ['*', '1', 'r']),\n",
       " (0.53333, ['a', 'e', 'l', 'o']),\n",
       " (0.55556, ['n', 'u']),\n",
       " (0.57778, ['T', 'f', 'w']),\n",
       " (0.6, ['3', '7']),\n",
       " (0.62222, ['J', 'j', 'y']),\n",
       " (0.64444, ['5']),\n",
       " (0.66667, ['$', '2', '6', '9', 'C', 'L', 'Y', 'm']),\n",
       " (0.68889, ['S']),\n",
       " (0.71111, ['4', 'g', 'k', 'p', 'q']),\n",
       " (0.73333, ['F', 'P', 'b', 'd', 'h']),\n",
       " (0.75556, ['G', 'O', 'V', 'X']),\n",
       " (0.77778, ['E', 'Z']),\n",
       " (0.8, ['8', 'A', 'U']),\n",
       " (0.84444, ['D', 'H', 'K', 'W']),\n",
       " (0.88889, ['&', '@', 'R']),\n",
       " (0.91111, ['B', 'Q']),\n",
       " (0.93333, ['#']),\n",
       " (1.0, ['0', 'M', 'N'])]"
      ]
     },
     "execution_count": 50,
     "metadata": {},
     "output_type": "execute_result"
    }
   ],
   "source": [
    "values_map"
   ]
  },
  {
   "cell_type": "code",
   "execution_count": 107,
   "metadata": {},
   "outputs": [
    {
     "data": {
      "image/png": "[encoded data removed]",
      "text/plain": [
       "<PIL.Image.Image image mode=L size=50x50 at 0x566F080>"
      ]
     },
     "execution_count": 107,
     "metadata": {},
     "output_type": "execute_result"
    }
   ],
   "source": [
    "girl_img = Image.open(\"girl.png\")\n",
    "girl_img = girl_img.convert(mode='L')\n",
    "girl_img"
   ]
  },
  {
   "cell_type": "code",
   "execution_count": 108,
   "metadata": {},
   "outputs": [
    {
     "data": {
      "text/plain": [
       "array([[ 89,  90,  91, ..., 100, 101, 103],\n",
       "       [ 90,  92,  95, ..., 102, 104, 105],\n",
       "       [ 91,  93,  96, ..., 102, 101, 102],\n",
       "       ...,\n",
       "       [ 84,  86,  86, ..., 161, 156, 179],\n",
       "       [ 83,  84,  85, ..., 150, 152, 175],\n",
       "       [ 82,  83,  85, ..., 129, 155, 164]], dtype=uint8)"
      ]
     },
     "execution_count": 108,
     "metadata": {},
     "output_type": "execute_result"
    }
   ],
   "source": [
    "girl_img_mat = np.array(girl_img)\n",
    "girl_img_mat"
   ]
  },
  {
   "cell_type": "code",
   "execution_count": 121,
   "metadata": {},
   "outputs": [],
   "source": [
    "def find_nearest(val_map, value):\n",
    "    value = value/255\n",
    "    result = (val_map[0][0], 0)\n",
    "    i = 0\n",
    "    for tup in val_map:\n",
    "        if (np.abs(value - tup[0]) < np.abs(value - result[0])):\n",
    "            result = (tup[0], i)\n",
    "        i += 1\n",
    "    return result[1]"
   ]
  },
  {
   "cell_type": "code",
   "execution_count": 123,
   "metadata": {},
   "outputs": [
    {
     "data": {
      "text/plain": [
       "7"
      ]
     },
     "execution_count": 123,
     "metadata": {},
     "output_type": "execute_result"
    }
   ],
   "source": [
    "find_nearest(values_map,89)"
   ]
  },
  {
   "cell_type": "code",
   "execution_count": 190,
   "metadata": {},
   "outputs": [],
   "source": [
    "girl_img_ascii_mat = np.zeros([int(height/5), width])"
   ]
  },
  {
   "cell_type": "code",
   "execution_count": 191,
   "metadata": {},
   "outputs": [
    {
     "ename": "IndexError",
     "evalue": "index 12 is out of bounds for axis 0 with size 12",
     "output_type": "error",
     "traceback": [
      "\u001b[1;31m---------------------------------------------------------------------------\u001b[0m",
      "\u001b[1;31mIndexError\u001b[0m                                Traceback (most recent call last)",
      "\u001b[1;32m<ipython-input-191-4ca8c5adff16>\u001b[0m in \u001b[0;36m<module>\u001b[1;34m\u001b[0m\n\u001b[0;32m      4\u001b[0m     \u001b[1;32mfor\u001b[0m \u001b[0mj\u001b[0m \u001b[1;32min\u001b[0m \u001b[0mrange\u001b[0m\u001b[1;33m(\u001b[0m\u001b[0mwidth\u001b[0m\u001b[1;33m)\u001b[0m\u001b[1;33m:\u001b[0m\u001b[1;33m\u001b[0m\u001b[0m\n\u001b[0;32m      5\u001b[0m         \u001b[0mnearest_index\u001b[0m \u001b[1;33m=\u001b[0m \u001b[0mfind_nearest\u001b[0m\u001b[1;33m(\u001b[0m\u001b[0mvalues_map\u001b[0m\u001b[1;33m,\u001b[0m\u001b[1;36m255\u001b[0m\u001b[1;33m-\u001b[0m\u001b[0mgirl_img_mat\u001b[0m\u001b[1;33m[\u001b[0m\u001b[0mi\u001b[0m\u001b[1;33m]\u001b[0m\u001b[1;33m[\u001b[0m\u001b[0mj\u001b[0m\u001b[1;33m]\u001b[0m\u001b[1;33m)\u001b[0m\u001b[1;33m\u001b[0m\u001b[0m\n\u001b[1;32m----> 6\u001b[1;33m         \u001b[0mgirl_img_ascii_mat\u001b[0m\u001b[1;33m[\u001b[0m\u001b[0mint\u001b[0m\u001b[1;33m(\u001b[0m\u001b[0mi\u001b[0m\u001b[1;33m/\u001b[0m\u001b[1;36m4\u001b[0m\u001b[1;33m)\u001b[0m\u001b[1;33m]\u001b[0m\u001b[1;33m[\u001b[0m\u001b[0mj\u001b[0m\u001b[1;33m]\u001b[0m \u001b[1;33m=\u001b[0m \u001b[0mord\u001b[0m\u001b[1;33m(\u001b[0m\u001b[0mvalues_map\u001b[0m\u001b[1;33m[\u001b[0m\u001b[0mnearest_index\u001b[0m\u001b[1;33m]\u001b[0m\u001b[1;33m[\u001b[0m\u001b[1;36m1\u001b[0m\u001b[1;33m]\u001b[0m\u001b[1;33m[\u001b[0m\u001b[1;36m0\u001b[0m\u001b[1;33m]\u001b[0m\u001b[1;33m)\u001b[0m\u001b[1;33m\u001b[0m\u001b[0m\n\u001b[0m",
      "\u001b[1;31mIndexError\u001b[0m: index 12 is out of bounds for axis 0 with size 12"
     ]
    }
   ],
   "source": [
    "height = girl_img.height\n",
    "width = girl_img.width\n",
    "for i in range(0,height,5):\n",
    "    for j in range(width):\n",
    "        nearest_index = find_nearest(values_map,255-girl_img_mat[i][j])\n",
    "        girl_img_ascii_mat[int(i/4)][j] = ord(values_map[nearest_index][1][0])"
   ]
  },
  {
   "cell_type": "code",
   "execution_count": 184,
   "metadata": {},
   "outputs": [
    {
     "data": {
      "text/plain": [
       "array([[53., 53., 53., ..., 51., 51., 51.],\n",
       "       [53., 53., 74., ..., 51., 51., 51.],\n",
       "       [53., 53., 53., ..., 51., 51., 51.],\n",
       "       ...,\n",
       "       [83., 36., 36., ..., 43., 34., 58.],\n",
       "       [36., 36., 36., ..., 40., 43., 34.],\n",
       "       [36., 36., 36., ..., 40., 40., 34.]])"
      ]
     },
     "execution_count": 184,
     "metadata": {},
     "output_type": "execute_result"
    }
   ],
   "source": [
    "girl_img_ascii_mat"
   ]
  },
  {
   "cell_type": "code",
   "execution_count": 187,
   "metadata": {
    "scrolled": false
   },
   "outputs": [
    {
     "name": "stdout",
     "output_type": "stream",
     "text": [
      "5555JJJJJ33333TTnnTTTT354F4GD8G5333TTT3333333J3333\n",
      "\n",
      "55JJJJJ3333333TTnnnJG&#00########E5TTTT33333333333\n",
      "\n",
      "555JJJJ333TT33TTn3E####0###########&G53JJJ33333333\n",
      "\n",
      "5555JJJ3333333TT5D8&#B##&B#BBBBB#B&&&E45JJJ3333333\n",
      "\n",
      "$5555JJJJ33333TTF8FF88EGSE&B##B&&DE8DES5JJJJJJJ333\n",
      "\n",
      "$$5555JJJJJJJ33JE8D&&884$5GDDDGSSEDDDEFS5JJJJJ3333\n",
      "\n",
      "$$$$555JJJJJJ335DD&B4%+;(;;++%!%(\";E&8D4555JJJ3333\n",
      "\n",
      "$$$55555JJJJJ335DDE!%GE84+:++3SSJ*:\"GD&F555JJJ333T\n",
      "\n",
      "$$$$555JJJJJJ334D&S'.-:::':(\"\"(;+:''nDBE5JJJ33TTTT\n",
      "\n",
      "S$$$5555JJJJJJJD&&8:..':+;!(a;%(:'-'J&B853J3TTTTTn\n",
      "\n",
      "$$$$$55JJJJJJJSBD8BJ'-'::::\"\"\":\":''+E#BDS33TTnnnnn\n",
      "\n",
      "S$$$$555JJJJJJG&G8#8:'':(*T3Ta%:'''J##BDFTTTnnnnna\n",
      "\n",
      "$$SS$$555JJJJJD&D###F::::\"(%(\":'''n###DDDJnnnnaaaa\n",
      "\n",
      "J5JS$$555JJJ$G8&8B##0&!\":':\":'':%E###85ED$nnaaaa*a\n",
      "\n",
      "';\"nS$$555J5$ED&8&####5((%aT*(%JE&##&E5484naaa****\n",
      "\n",
      ":!*aJS$555JJ$GDD8&&##0E(+\";(;(a4D&BBBDG5GFnaaa**aa\n",
      "\n",
      ":(n!aa5$5*%T54DD&BDB##&a;\"+;;%T4DB#B&&8553annaaaaa\n",
      "\n",
      "\"(!3%a!T5$3*n48BB&&B##&J(\"\"\"\";!JEB#B8GG3Taaaaa*aaa\n",
      "\n",
      "!;;(3!!(%n3%;3GD&88DB&&83%;;;(!34D&#&E85naaaaa*aaa\n",
      "\n",
      "$%(;\"\";;;;\"\":\"a44SE&BB#&GS$555$$$SG8D&D8T(;\";(%!**\n",
      "\n",
      "SSa\":\";;\"::'':\"*555S4S5J3Tnaa***!**!!!%((%%(;;\":''\n",
      "\n",
      "SS$3(\"::::::'::+nTT33J33TTTn**!!!!%%%%(;((((;;(::'\n",
      "\n",
      "S$$5n!%%(;\"::::(nT3J333JJJ3Tna**!!%%%%;;;(;+;(%+\":\n",
      "\n",
      "$$$5na*aJJ3!+::T4n3JJ3JJJJJ3Tnaa*!!%%%;;((;+;%((+\"\n",
      "\n",
      "$$$JaannT$443%4&5T35JJJJ555JJ3Tn**!!!%(;;(;\";%;((\"\n",
      "\n"
     ]
    }
   ],
   "source": [
    "for row in girl_img_ascii_mat:\n",
    "    for pixel in row:\n",
    "        print(chr(int(pixel)), end=\"\", flush=True)\n",
    "#         print(\" \", end=\"\", flush=True)\n",
    "    print('\\n')"
   ]
  },
  {
   "cell_type": "code",
   "execution_count": null,
   "metadata": {},
   "outputs": [],
   "source": []
  }
 ],
 "metadata": {
  "kernelspec": {
   "display_name": "Python 3",
   "language": "python",
   "name": "python3"
  },
  "language_info": {
   "codemirror_mode": {
    "name": "ipython",
    "version": 3
   },
   "file_extension": ".py",
   "mimetype": "text/x-python",
   "name": "python",
   "nbconvert_exporter": "python",
   "pygments_lexer": "ipython3",
   "version": "3.6.5"
  }
 },
 "nbformat": 4,
 "nbformat_minor": 2
}
