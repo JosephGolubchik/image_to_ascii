{
 "cells": [
  {
   "cell_type": "code",
   "execution_count": 1,
   "metadata": {},
   "outputs": [],
   "source": [
    "import PIL\n",
    "from PIL import ImageFont\n",
    "from PIL import Image\n",
    "from PIL import ImageDraw\n",
    "import numpy as np\n",
    "from random import randint"
   ]
  },
  {
   "cell_type": "code",
   "execution_count": 2,
   "metadata": {},
   "outputs": [],
   "source": [
    "ascii_img = Image.open(\"ascii.png\");\n",
    "ascii_img = ascii_img.convert(mode='L')"
   ]
  },
  {
   "cell_type": "code",
   "execution_count": 3,
   "metadata": {},
   "outputs": [],
   "source": [
    "chars = ['!','\"','#','$','%','&','\\'','(',')','*','+',',','-','.','/',\n",
    "         '0','1','2','3','4','5','6','7','8','9',':',';','<','=','>',\n",
    "         '?','@','A','B','C','D','E','F','G','H','I','J','K','L','M',\n",
    "         'N','O','P','Q','R','S','T','U','V','W','X','Y','Z','[','\\\\',\n",
    "         ']','^','_','`','a','b','c','d','e','f','g','h','i','j','k',\n",
    "         'l','m','n','o','p','q','r','s','t','u','v','w','x','y','z',\n",
    "         '{',':','}','~']\n",
    "values = []\n",
    "crops = []\n",
    "for i in range(len(chars)):  \n",
    "    white = 0\n",
    "    crop = ascii_img.crop((i*8, 0, i*8+8, ascii_img.height))\n",
    "    crops.append(crop)\n",
    "    crop_array = np.array(crop)\n",
    "    for row in crop_array:\n",
    "        for pixel in row:\n",
    "            if (pixel != 0):\n",
    "                white += 1\n",
    "    values.append((chars[i], round(white/45,5)))\n",
    "values.append((' ', 0))\n"
   ]
  },
  {
   "cell_type": "code",
   "execution_count": 4,
   "metadata": {},
   "outputs": [],
   "source": [
    "from operator import itemgetter\n",
    "values.sort(key=itemgetter(1),reverse=False)"
   ]
  },
  {
   "cell_type": "code",
   "execution_count": 5,
   "metadata": {},
   "outputs": [],
   "source": [
    "values_map = []\n",
    "value_indexes = []\n",
    "for tup in values:\n",
    "    if tup[1] not in value_indexes:\n",
    "        values_map.append((tup[1], [tup[0]]))\n",
    "        value_indexes.append(tup[1])\n",
    "    else:\n",
    "        index = value_indexes.index(tup[1])\n",
    "        values_map[index][1].append(tup[0])"
   ]
  },
  {
   "cell_type": "code",
   "execution_count": 6,
   "metadata": {},
   "outputs": [
    {
     "data": {
      "text/plain": [
       "[(0, [' ']),\n",
       " (0.13333, ['.']),\n",
       " (0.15556, ['-', '_', '`']),\n",
       " (0.17778, [\"'\", ',']),\n",
       " (0.26667, [':', '=', '^']),\n",
       " (0.31111, ['\"', '/', '\\\\', '~']),\n",
       " (0.33333, ['+']),\n",
       " (0.35556, [';', ':']),\n",
       " (0.4, ['(', ')', '<', '>']),\n",
       " (0.44444, ['%', '?', 'c', 's', '{', '}']),\n",
       " (0.48889, ['!', 'I', '[', ']', 'i', 't', 'v', 'x', 'z']),\n",
       " (0.51111, ['*', '1', 'r']),\n",
       " (0.53333, ['a', 'e', 'l', 'o']),\n",
       " (0.55556, ['n', 'u']),\n",
       " (0.57778, ['T', 'f', 'w']),\n",
       " (0.6, ['3', '7']),\n",
       " (0.62222, ['J', 'j', 'y']),\n",
       " (0.64444, ['5']),\n",
       " (0.66667, ['$', '2', '6', '9', 'C', 'L', 'Y', 'm']),\n",
       " (0.68889, ['S']),\n",
       " (0.71111, ['4', 'g', 'k', 'p', 'q']),\n",
       " (0.73333, ['F', 'P', 'b', 'd', 'h']),\n",
       " (0.75556, ['G', 'O', 'V', 'X']),\n",
       " (0.77778, ['E', 'Z']),\n",
       " (0.8, ['8', 'A', 'U']),\n",
       " (0.84444, ['D', 'H', 'K', 'W']),\n",
       " (0.88889, ['&', '@', 'R']),\n",
       " (0.91111, ['B', 'Q']),\n",
       " (0.93333, ['#']),\n",
       " (1.0, ['0', 'M', 'N'])]"
      ]
     },
     "execution_count": 6,
     "metadata": {},
     "output_type": "execute_result"
    }
   ],
   "source": [
    "values_map"
   ]
  },
  {
   "cell_type": "code",
   "execution_count": 56,
   "metadata": {},
   "outputs": [
    {
     "data": {
      "image/png": "[encoded data removed]",
      "text/plain": [
       "<PIL.Image.Image image mode=L size=150x150 at 0xDCC4E80>"
      ]
     },
     "execution_count": 56,
     "metadata": {},
     "output_type": "execute_result"
    }
   ],
   "source": [
    "org_img = Image.open(\"panda.jpg\")\n",
    "org_img = org_img.convert(mode='L')\n",
    "org_img"
   ]
  },
  {
   "cell_type": "code",
   "execution_count": 58,
   "metadata": {},
   "outputs": [],
   "source": [
    "def find_nearest(val_map, value):\n",
    "    value = value/255\n",
    "    result = (val_map[0][0], 0)\n",
    "    i = 0\n",
    "    for tup in val_map:\n",
    "        if (np.abs(value - tup[0]) < np.abs(value - result[0])):\n",
    "            result = (tup[0], i)\n",
    "        i += 1\n",
    "    return result[1]"
   ]
  },
  {
   "cell_type": "code",
   "execution_count": 59,
   "metadata": {},
   "outputs": [
    {
     "data": {
      "text/plain": [
       "7"
      ]
     },
     "execution_count": 59,
     "metadata": {},
     "output_type": "execute_result"
    }
   ],
   "source": [
    "find_nearest(values_map,89)"
   ]
  },
  {
   "cell_type": "code",
   "execution_count": 107,
   "metadata": {},
   "outputs": [],
   "source": [
    "def naive_ascii(org_img, step_size_rows, step_size_cols):\n",
    "    org_img_mat = np.array(org_img)\n",
    "    org_img_ascii_mat = np.zeros([int(org_img.height/step_size_rows), int(org_img.width/step_size_cols)])\n",
    "    height = org_img.height\n",
    "    width = org_img.width\n",
    "    \n",
    "    for i in range(0,height,step_size_rows):\n",
    "        for j in range(0,width,step_size_cols):\n",
    "            nearest_index = find_nearest(values_map,org_img_mat[i][j])\n",
    "            rand_char_index = randint(0,len(values_map[nearest_index][1])-1)\n",
    "            org_img_ascii_mat[int(i/step_size_rows)][int(j/step_size_cols)] = ord(values_map[nearest_index][1][rand_char_index])\n",
    "\n",
    "    for row in org_img_ascii_mat:\n",
    "        row_string = \"\"\n",
    "        for pixel in row:\n",
    "            row_string += chr(int(pixel))\n",
    "        print(row_string)\n"
   ]
  },
  {
   "cell_type": "code",
   "execution_count": 110,
   "metadata": {},
   "outputs": [
    {
     "name": "stdout",
     "output_type": "stream",
     "text": [
      "#WAf5wc^:\\=:lK*?()xzf7auevuev4ii5j%uT[tu1*el*rn)%[]<}I)%?()((;>;+\\===:)thKK\n",
      "DRHRWR@#M#@E++=:)1u()x5izx*eeAZu>ySw]u1e%e%z({}%c?I}+();<):^:=^([yU8R@R@WDA\n",
      "jfaniyy6SEAD@BX\"/,'+]7lm58OGhHUyWAbYJf<itnIc{c??)?!<}s{:::<^,+yRHBH8ZXqS5J5\n",
      ";~,:=^=''s7f4q4o}^x+:na5AhKkSf556CJwlzrsse{{an}>xI{+c:{:;,)/\"n74gF5T11\"'.=<\n",
      "./\\:=._^=)ewe??=':<rTaz53w35nt*rl?I>?e{]r?(c;}]:]~(%z~\\(~}^'+\\+i175n>''..::\n",
      "..,+}**(')(;,~,.=\\:Pw*<+iqv6<s{*I/;)?u+>c!(;)z(<+)>{)l,c;/\\//),^:\"}xc1:/=+}\n",
      ".    `.,,._..\"^:/\"+:~+ix~)<~><>;+)s><!)](/xr<>\\);(<rs)^<:\"~^\\\",'.'^^\\\"='\\(e\n",
      ":,_. .......^='\\+(',:\\+<^:++))(>+{>+(?s>{]c;;()/{:(=v{(}r;/;=?:%{c^.....'=t\n",
      "...._.. . ..,,//<:>+;:cs^:(s+?:>=?(vl{?c(:;/~:<;+=]c^t[~)%;>r}z<::})'-..'::\n",
      ".. ...  ,.:=~)+\";(>}({c<^/+<:{>+;snio}s<rs\\+:::+=~]{]>?c>na*t>;[r>};)''`'-'\n",
      ".....  .=<:\"<):^:]vvx:(:>:\\~:=?;:>)trzi!c(,)::();:{:cx?iorIuv(e*}^1v?r;^=,'\n",
      "'. ..')<%s):<:;^;+c<+<:='^J3r<ts<s~<;%cI>)>/>?lc%le>1c>r?1;{(;z)[reIuor<^''\n",
      "....'1%);;((+<\"%\"==s:==%+vuOUGG5]=:^/+>{t<>^n55bkn};)\">:c)({r<%t1%x;:n>^^;'\n",
      ".`-+t?c;*?:/:<=;::\\/^;(;;:~vGADVS:_,^=<?<::/JkXS*^=^<<(:/:=):}(l><za<1)c',^\n",
      ".\";\\<%?:i+\"))^;+:=,,cti(=',=;nw3T,^-^/\"':+/.\"J;,,_.  .-:^'-=+)]t]vrrxo*%(~=\n",
      "':::{ziir}ju1;s*('.-'.- ':{. `,,..,',=:/:+:,'..,  _.'.` .,,=%5gSFfJ5n+)<?>'\n",
      ".,`^\\>'fuSZFCS7Tc',.=,'.  .. ._:~;cuy3mJpmmyox?'.'....`....:1SGXVSS63]e>':+\n",
      ".'=:~;ro5E584EC3:'_....,...,'=nCGO8U&DKRQ@RKApSyc.,',=.....-?5dVVAdFC(1\"^~/\n",
      "..,^:s75XpSkhyr)_....  ..-`/SgSVAA8UEOPVAK8&&@W@RRHT/-.......~15Sq8WUq{:~^,\n",
      "..':7JdVVOSLT{`.    ...={VK@@UW&DDS1::%)}inW&@HQ#&RDEVo/..   ./f5SPOZCn:==:\n",
      ".';c{5Jn*56%/_.,'   ./ajLbOZWA8ZGu'_......^,X@KD&DRAh3I;,..   .,~ySOVAT:=,`\n",
      ",_.:=^\"~)+;=_   ..^^.,(L4ZHKEZ8Oq ....   .. .ySpDAEH&ESu\\\\;5{{=-^;npSqpt^'.\n",
      ".. .-.','`....   ...,1<3g4dZZOVCj3 .      .'25SSYSFVOu/?:  ;~ ..^{)1E7]>:,`\n",
      " ..    .'-...... :`....,aybygmSyJa*)==. ,-~IIsec*T>/n.r^=;-^<;.--'+;%^+'>. \n",
      "            .' .   .^ .` ..<.=',..'...  .`,' .-,. .  .,_.` ^.  .[''.       \n",
      "          ,             ...-:`...~^^=,..'^^+~.',+~' .. .      ..   ~       \n",
      ".      =                  .,+1}..Ivs>~:;)}o;'.)ja?^.   .            .      \n",
      ".   ^                     .,>n35^'sIx1}ilo-.=75S3I^                        \n",
      "...                       -. afwY7>,-`...'+n557!~..                        \n",
      ".                          .  .:>l1l):...=;>\"+_ .                          \n"
     ]
    }
   ],
   "source": [
    "naive_ascii(org_img, 5, 2)"
   ]
  },
  {
   "cell_type": "code",
   "execution_count": 111,
   "metadata": {},
   "outputs": [],
   "source": [
    "def avg_ascii(org_img, step_size_rows, step_size_cols):\n",
    "    org_img_mat = np.array(org_img)\n",
    "    org_img_ascii_mat = np.zeros([int(org_img.height/step_size_rows), int(org_img.width/step_size_cols)])\n",
    "    height = org_img.height\n",
    "    width = org_img.width\n",
    "    \n",
    "    for i in range(0,height-1,step_size_rows):\n",
    "        for j in range(0,width-1,step_size_cols):\n",
    "            sum = int(org_img_mat[i][j]) + int(org_img_mat[i+1][j]) + int(org_img_mat[i][j+1]) + int(org_img_mat[i+1][j+1])\n",
    "            nearest_index = find_nearest(values_map,sum/4)\n",
    "            rand_char_index = randint(0,len(values_map[nearest_index][1])-1)\n",
    "            org_img_ascii_mat[int(i/step_size_rows)][int(j/step_size_cols)] = ord(values_map[nearest_index][1][rand_char_index])\n",
    "\n",
    "    for row in org_img_ascii_mat:\n",
    "        row_string = \"\"\n",
    "        for pixel in row:\n",
    "            row_string += chr(int(pixel))\n",
    "        print(row_string)\n",
    "        "
   ]
  },
  {
   "cell_type": "code",
   "execution_count": 114,
   "metadata": {},
   "outputs": [
    {
     "name": "stdout",
     "output_type": "stream",
     "text": [
      "QH87k5r;\\=^;rSo}<(}[rn11l]raojza7Joun1aer*n}Ie[}{c%<<{{c<><)>:<\\/=:::<!$ADH\n",
      "HD8KW&&0##QPi+=:;?]<s[7tz1wn5OVe*T5ll11*}nc>{[<c({]c:();(<+=^^=znGHW&RWKH8V\n",
      "T1a1eu5jmGZWW@g:/,,:uyu5LXUXXUF2AO56uI}Itl*s{c?<(?%{s)s;~:(:=%gK&@WAZGS5Jyj\n",
      "=^_,'==,^[73Sq5*(=(>+fwS8PDS5ujjSJ3l*r[{%rI*[*x:c<:(}::;+\";/~l5ppLyor>^_.^)\n",
      "-=+::_,/~)oa]{\\'`,)1o]*ff7u3zcx[*?I%?!%[??}}?%s{);%[)^(>():+;\\:?ejyz::`..:<\n",
      "..,\\%t1)\">>\\''-,^+c7<n()I3x!<(ts%;>>si)>}%<>>c<()>+>:(:<;^=/::,^^:?*!://=<c\n",
      "    ..._`....^^\\+\":++;%!):;;><(;:(?}?<x{};!}:>\\)+)<s;~++;=;+\":\"'.-''^:^/:(*\n",
      "^,......_...^':+:+::\"\"++\\;^+:+(>))(>%>}}}?<\\;(++(:;:!>}%?+)>+()<??'.....,~z\n",
      "........  .,=^~:(;;;~+>}::><<%:(+)sccI<%(<;+~:;>;<s<%I1>]!:<?%z>:(%)=,..`:;\n",
      "  ....  `::\"+>;/+:%<(>)(^++:+<c)s??%I:c?}<<:=\\;\"\"<>)%II%}n1t}I%re?:<>^',--'\n",
      ".....  ,;)::):~/:}[}?(<:;+~\\+~<;{<[zzstv(+/+:;>;:+>?%{]trze*}*er}<c?<!=''='\n",
      "`. ..=:<I{<;<:(:::)(;+;~+(uwat1c<<;%>?r<{>\"+>(lvouIi1s%Ics);)??>ra}c%1*>=''\n",
      "....(c:+\")(;;+:<+=\\:\\=:((%ThAPGw[~=::+?>));?5S4VS!);(++~>;(}?czv}}ss>?(///'\n",
      "..'<}>>??>;+:++\"^::~~:+(;/~uGU8OT=',^::():~<SbS5)^=\\;??:/^\\:;<{lI(t*Ir:;='=\n",
      ".~:+}]xs(:)(;+;\"=,':>>{\"'._=\\cT7;.-,,=^^\\\\:.\"o=',.... ':,_'=;s]c[ar1luo])+:\n",
      ",=:~cv[*irue*xs!>'_'''. ^^^..,-...'==^^::)+,'._'..-',....-,/rLqgwlf7lc{<)\\^\n",
      "``=^;:%o3SZbdS5u('''='...    .^+:<1725pSG4Syua%=......-..../ugZ8VPdpuc*):\\:\n",
      ".=\";)1ujSOXVdd5n\\`.....,,_-.'<54ZEUDHKH@&@RDUhS5?,,',`.....,{5FEZZVV5></^::\n",
      "._':>vyShSFGSwc:.....  ...^eF4PE88XEhpSdADH@&@@@@RDy:,.......~I5SPZAX9[:\\^'\n",
      "..=>fjOEGd97*+..   ...`:5ZDWKDWKKU3)++)+))3KRD@BQDHHAq},.    .+f94OXg7{(^==\n",
      ".,:tr1rao77%+-.``. .')o5gpOZK88Zb;-.......=:hH&HR@@Kqjo+-..   .=?3SEO4o+=',\n",
      ".,,'^:\":;+\\,.    .':^+*2V8A8ZhdS%.. ..      ^LhXUUDD8ky(+,:::::^:<3S56y?^'.\n",
      "....._-_,...     ..,:+v7SdGZEOPSSr.       .(5m5gSgOOYr>:~.':'...,c{15n<:\\..\n",
      "       ........''_.  .,/{355S5Yyyar{/^. ':>c>;>(>x(^/^~(+''\\;;..`'\">>='_:' \n",
      "           ... .   .. .. .,=,=^...-._.  .-'`..,........' ..,-. .+,.        \n",
      "         `.             ...,=-..,+~==-.`^^+=^_.:;=_.          ..   `       \n",
      ".     `.                  .')l>.,1%}:::(}ce\".'l3n(=..               .      \n",
      "   ..                     .:?wyn:^?zrx!rr{.`+5S6n>-                        \n",
      "...                      .  ,[f5Lw>='....^c7CJe(,.                         \n",
      "                           .  .=;x%v+'...,/~=^.                            \n"
     ]
    }
   ],
   "source": [
    "avg_ascii(org_img, 5, 2)"
   ]
  },
  {
   "cell_type": "code",
   "execution_count": null,
   "metadata": {},
   "outputs": [],
   "source": []
  }
 ],
 "metadata": {
  "kernelspec": {
   "display_name": "Python 3",
   "language": "python",
   "name": "python3"
  },
  "language_info": {
   "codemirror_mode": {
    "name": "ipython",
    "version": 3
   },
   "file_extension": ".py",
   "mimetype": "text/x-python",
   "name": "python",
   "nbconvert_exporter": "python",
   "pygments_lexer": "ipython3",
   "version": "3.6.5"
  }
 },
 "nbformat": 4,
 "nbformat_minor": 2
}
