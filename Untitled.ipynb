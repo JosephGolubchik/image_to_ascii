{
 "cells": [
  {
   "cell_type": "code",
   "execution_count": 2,
   "metadata": {},
   "outputs": [],
   "source": [
    "import PIL\n",
    "from PIL import ImageFont\n",
    "from PIL import Image\n",
    "from PIL import ImageDraw\n",
    "import numpy as np"
   ]
  },
  {
   "cell_type": "code",
   "execution_count": 3,
   "metadata": {},
   "outputs": [],
   "source": [
    "ascii_img = Image.open(\"ascii.png\");\n",
    "ascii_img = ascii_img.convert(mode='L')"
   ]
  },
  {
   "cell_type": "code",
   "execution_count": 4,
   "metadata": {},
   "outputs": [],
   "source": [
    "chars = ['!','\"','#','$','%','&','\\'','(',')','*','+',',','-','.','/',\n",
    "         '0','1','2','3','4','5','6','7','8','9',':',';','<','=','>',\n",
    "         '?','@','A','B','C','D','E','F','G','H','I','J','K','L','M',\n",
    "         'N','O','P','Q','R','S','T','U','V','W','X','Y','Z','[','\\\\',\n",
    "         ']','^','_','`','a','b','c','d','e','f','g','h','i','j','k',\n",
    "         'l','m','n','o','p','q','r','s','t','u','v','w','x','y','z',\n",
    "         '{',':','}','~']\n",
    "values = []\n",
    "crops = []\n",
    "for i in range(len(chars)):  \n",
    "    white = 0\n",
    "    crop = ascii_img.crop((i*8, 0, i*8+8, ascii_img.height))\n",
    "    crops.append(crop)\n",
    "    crop_array = np.array(crop)\n",
    "    for row in crop_array:\n",
    "        for pixel in row:\n",
    "            if (pixel != 0):\n",
    "                white += 1\n",
    "    values.append((chars[i], round(white/45,5)))\n",
    "values.append((' ', 0))\n"
   ]
  },
  {
   "cell_type": "code",
   "execution_count": 5,
   "metadata": {},
   "outputs": [],
   "source": [
    "from operator import itemgetter\n",
    "values.sort(key=itemgetter(1),reverse=False)"
   ]
  },
  {
   "cell_type": "code",
   "execution_count": 6,
   "metadata": {},
   "outputs": [],
   "source": [
    "values_map = []\n",
    "value_indexes = []\n",
    "for tup in values:\n",
    "    if tup[1] not in value_indexes:\n",
    "        values_map.append((tup[1], [tup[0]]))\n",
    "        value_indexes.append(tup[1])\n",
    "    else:\n",
    "        index = value_indexes.index(tup[1])\n",
    "        values_map[index][1].append(tup[0])"
   ]
  },
  {
   "cell_type": "code",
   "execution_count": 7,
   "metadata": {},
   "outputs": [
    {
     "data": {
      "text/plain": [
       "[(0, [' ']),\n",
       " (0.13333, ['.']),\n",
       " (0.15556, ['-', '_', '`']),\n",
       " (0.17778, [\"'\", ',']),\n",
       " (0.26667, [':', '=', '^']),\n",
       " (0.31111, ['\"', '/', '\\\\', '~']),\n",
       " (0.33333, ['+']),\n",
       " (0.35556, [';', ':']),\n",
       " (0.4, ['(', ')', '<', '>']),\n",
       " (0.44444, ['%', '?', 'c', 's', '{', '}']),\n",
       " (0.48889, ['!', 'I', '[', ']', 'i', 't', 'v', 'x', 'z']),\n",
       " (0.51111, ['*', '1', 'r']),\n",
       " (0.53333, ['a', 'e', 'l', 'o']),\n",
       " (0.55556, ['n', 'u']),\n",
       " (0.57778, ['T', 'f', 'w']),\n",
       " (0.6, ['3', '7']),\n",
       " (0.62222, ['J', 'j', 'y']),\n",
       " (0.64444, ['5']),\n",
       " (0.66667, ['$', '2', '6', '9', 'C', 'L', 'Y', 'm']),\n",
       " (0.68889, ['S']),\n",
       " (0.71111, ['4', 'g', 'k', 'p', 'q']),\n",
       " (0.73333, ['F', 'P', 'b', 'd', 'h']),\n",
       " (0.75556, ['G', 'O', 'V', 'X']),\n",
       " (0.77778, ['E', 'Z']),\n",
       " (0.8, ['8', 'A', 'U']),\n",
       " (0.84444, ['D', 'H', 'K', 'W']),\n",
       " (0.88889, ['&', '@', 'R']),\n",
       " (0.91111, ['B', 'Q']),\n",
       " (0.93333, ['#']),\n",
       " (1.0, ['0', 'M', 'N'])]"
      ]
     },
     "execution_count": 7,
     "metadata": {},
     "output_type": "execute_result"
    }
   ],
   "source": [
    "values_map"
   ]
  },
  {
   "cell_type": "code",
   "execution_count": 52,
   "metadata": {},
   "outputs": [
    {
     "data": {
      "image/png": "[encoded data removed]",
      "text/plain": [
       "<PIL.Image.Image image mode=L size=100x100 at 0x5BFEA90>"
      ]
     },
     "execution_count": 52,
     "metadata": {},
     "output_type": "execute_result"
    }
   ],
   "source": [
    "org_img = Image.open(\"panda.jpg\")\n",
    "org_img = org_img.convert(mode='L')\n",
    "org_img"
   ]
  },
  {
   "cell_type": "code",
   "execution_count": 53,
   "metadata": {},
   "outputs": [
    {
     "data": {
      "text/plain": [
       "array([[ 55,  46,  44, ..., 156, 162, 169],\n",
       "       [ 44,  39,  42, ..., 162, 159, 170],\n",
       "       [ 47,  50,  53, ..., 148, 143, 155],\n",
       "       ...,\n",
       "       [ 26,  29,  28, ...,   4,   5,   3],\n",
       "       [ 27,  29,  29, ...,   3,   4,   3],\n",
       "       [ 29,  29,  29, ...,   3,   3,   2]], dtype=uint8)"
      ]
     },
     "execution_count": 53,
     "metadata": {},
     "output_type": "execute_result"
    }
   ],
   "source": [
    "org_img_mat = np.array(org_img)\n",
    "org_img_mat"
   ]
  },
  {
   "cell_type": "code",
   "execution_count": 54,
   "metadata": {},
   "outputs": [],
   "source": [
    "def find_nearest(val_map, value):\n",
    "    value = value/255\n",
    "    result = (val_map[0][0], 0)\n",
    "    i = 0\n",
    "    for tup in val_map:\n",
    "        if (np.abs(value - tup[0]) < np.abs(value - result[0])):\n",
    "            result = (tup[0], i)\n",
    "        i += 1\n",
    "    return result[1]"
   ]
  },
  {
   "cell_type": "code",
   "execution_count": 55,
   "metadata": {},
   "outputs": [
    {
     "data": {
      "text/plain": [
       "7"
      ]
     },
     "execution_count": 55,
     "metadata": {},
     "output_type": "execute_result"
    }
   ],
   "source": [
    "find_nearest(values_map,89)"
   ]
  },
  {
   "cell_type": "code",
   "execution_count": 74,
   "metadata": {},
   "outputs": [],
   "source": [
    "step_size_rows = 2\n",
    "step_size_cols = 1\n",
    "org_img_ascii_mat = np.zeros([int(org_img.height/step_size_rows), int(org_img.width/step_size_cols)])"
   ]
  },
  {
   "cell_type": "code",
   "execution_count": 86,
   "metadata": {},
   "outputs": [],
   "source": [
    "from random import randint\n",
    "height = org_img.height\n",
    "width = org_img.width\n",
    "for i in range(0,height,step_size_rows):\n",
    "    for j in range(width):\n",
    "        nearest_index = find_nearest(values_map,255-org_img_mat[i][j])\n",
    "        rand_char_index = randint(0,len(values_map[nearest_index][1])-1)\n",
    "        org_img_ascii_mat[int(i/step_size_rows)][int(j/step_size_cols)] = ord(values_map[nearest_index][1][rand_char_index])"
   ]
  },
  {
   "cell_type": "code",
   "execution_count": 87,
   "metadata": {
    "scrolled": false
   },
   "outputs": [
    {
     "name": "stdout",
     "output_type": "stream",
     "text": [
      "Z8KHDDDHDHHOk95q8KUXqkpmZKZEUD8OLG&B&B#QU55gUWDWAUAGL4Pkm3SV55mSS8p9SG{,,'::~>%un3SjSS5yS55$5uv%]):+\n",
      "AUUUAEE8KZqSqd8DDK8WW8Eq4AZOUDHUUKDH@#&E6pZA8WWWGS557JyJJJm$52S6SJS56e,,',^=;+cujyEhPZEUUZh5J7r>c)c>\n",
      "qgkGVEUUOSSGAHKKDHWDWKDEpAWZU8AAA6Y@RR8$5J3jj3w77nuf3j5SJ5SSmJCS53JJl\\^'''^:~;)16UOLmOOSEEZ8Z455l[rI\n",
      "SdZAKRHPCS4ZZU88K8DRKHHKSgDKUEZAHDSSS55p55y7f35777y7jy9S5f3qY55woe35I::^^^,\\:>?*T55J5wEWBQKVPFm555Cw\n",
      "G8DR&Kb5m4EEZEAKKWK&@WWWESEHRV4qZhppS4p3TulnTyna555y5uf7j3ay77nrny3J3;:+~\\~ts%!xnao13qSSyS533ySbSS5j\n",
      "ZH&WHU4OU8W88DHWDHKR@RR&&qhK@A5EES44Y57faw325a3353jT*nl3yu1SfrTn5YmCS5f5Jw57Tv1seTwJfl*ef9S5yS4ju1]*\n",
      "WKWRWEUHUVb8KWKDWWHR@R@R&K48B@SFW8ES3jT35wj3nre73u**v*urarzj6r3Y7S5pA4EhbDEEOOqdSPkk2SJhdhbSuzicv][%\n",
      "HRRR&Zw\\,....._:;TUB#QR@QQZh@@h6qqSJ3555y7jw1r?}1l}l1Ia1a1aJFfyjg5SSEp5kEE4&HWKAUZPhymUHWVSLyyYy3ule\n",
      "K@RWqs,,.........  .,?b#BQWhEA47255jCYJf**er?ur!nf[njn]a3TfSelrw5yw5$gVdZVHPpdFER&K@Q&DDAOPq95wT57uI\n",
      "8A&p<=','''_,_.....  ..-(VBU45nfJ7jwnwjYut{?*nennwufn7IoYouL35u95wJSpE2VEPLk8AgAA5SAUKKAEpSkPhSL77J7\n",
      "RKE3+:''====:^'_..........;mwaaurn3fuw1]rs?t3rewo3a{anu7JjJyf$55Cw1uST3Eb5SE8OXSSOXEAU6URU8W@WA8KUEV\n",
      "KKb!\":==::=//:^`.........'>wfo[uunj53aiI{v>%c%{1s<lczCxvnSt735]$7{TS7jqy5445T6jqbSSC4G&@QBRB@KHUZAHK\n",
      "WWpa>:^~~+i%:::^'`-'-'=::13wnv11yTyfoa[%<?{;cr1Ita7353fvernSy9*Sje5jbhnJC5Y3Ok59m7S4LFP5FSXUD&#@DKUA\n",
      "HD4e(;^+uVr){?}z}/^':=;rm525uu1]veu3Ii*c}*s1;{o!al73n5ESa75Cyge)vn%!5[rJy1ySww43ykfjjTG4SEUDHKKWHWWH\n",
      "OZd5*1JDZ;\"+){uu*};\"+:ugdSunula3nlnft}c%s*+)<x*az<<na4?faew9*lJ5YjTTte7jsjS[u5%7S5u5Fjf56kbEGPXVE88H\n",
      "qFPkpE@S/::~^><):(:+:1pX55SYuxr}xii{%::;:;+:+>(?{?%<fI*%*y6S7pzpOjJn55wu53*jTfJJ5jm9yy7ShVk4GO8AWDWH\n",
      "SSSZ8@q:+\"\"/:<%c?s:/<r52kSInftuiuwyz<?)>(:;^<>(iIe]c]tz2qEJv{n*[rvcS51wa3j325*r55fy5mn7YXEOXXSLSGZUW\n",
      "kZ8R@S);\"\"\"/\\~/+)}*wy55wyTTu[fvs*yoec+<{>t::/:;<(%lw7ulio):<^[%;/<II1{(3uPunJyTrSOE55Jn7yTwySpkEZEAU\n",
      "88@WXZu);+\"^:~+;:(<i*Tnaun1rnr[1nfnIIs)]*vs(+\":]l]iroi+:=[''''+)\"c;~or}eoi$juluj5u<um]sjAAZEU88AUUA8\n",
      "@D5SEZSI;:(?sci*r1TJ6Cf*1afau[t!11[!s;>}>rzIot+%%l1e<-.'^..'+r(^+^':\"\"c!]nl1rint[mhewLbm$SSCCSEAUADW\n",
      "@DZ53Sgfz%<::++>;;c353Ty]oors{{cxr*rs\":^zuaIzanyJfxl1'.. ..;Tov)<a};::v11>::((r}((fI{53fy6$9XEHWDW&@\n",
      "DD&@ES5wvc?((>srn5gOh5fuuz)s%c[unJy<:- .\\<*3y75wu5n1j1^,,-'%uSAMM@##p}}s![;/=\"/++:z7*iwpS59EkkKR&&DK\n",
      "KHWDKDZ53eIs}{}stjSy3flrlnonrrIoeTf;... '^sSqg9qTr({yk5::<1jA#HlXXXSFq1iTYSf<^.._:':<rreyS65qSbdDD&Q\n",
      "UWADDKHKZLntc({1Jdg3enl{})<!1ufjurv;=` .,:vEOqgXw+cn2SpqkSkGA##ZZQbl@SL54XUy+,:~^,:~~:~)iJ35GXqEZUUD\n",
      "H@&&@RR@b5worro3SVZ89uta33w**}}Tnr(:?}?)/+%Vbkj{)t(;s*x?(%YbSDKG24BE5GZWKK&Vjn:,,'''..':^=\\%2494qqdO\n",
      "RDW@R&&@QWX5fT354UHZpywronTJn]v*a];}JA@DUPOSCu!):+/=',=,'^:suS8qSSEZVXAWHWH#@S6p3+::'_-^:::cafjJSS5J\n",
      "HD@RK@@@WDDGS2FUKD&Agarwuu*11I[{*t]5@@UeORWl,:~`=,'.  .'-_-'''=%{!Ine35SbKK@&ESZDGu?(+:':\";)>ny4WR##\n",
      "CqGADR&H@KK@USSEHWHDZLoc!e33T};<>;=;mEUU8&Ws,,...,/?{\\'_`_:...    .'+!lL5jSUDGJ9b89r):=,'^^~>vjqEDQB\n",
      "OdOZZEA8UAU88AAU8ZRHK8EXF9at*)::nyuo5XB#@Abc..,-,=);'+::^\\^=`.     .   ':)o5hUE4Tenn*)\"/\"<)si5C6Z@##\n",
      "UGEWHKHDKKDDWKAUDZkVUAUdSJo](\\~(3hS5SbXh4X!...,'>!t{<+='':''`._.     .. .'\"}J8B0BX5o%;:(+({sLRB#####\n",
      "DZhV8WWKHDHWDUESdDZUK8AZE5j5>',:}SUOdbhZq1-. .\"tJSbbWAgc^=^,`._.,.   ...`=l55gADUVS3l![z%n5HW#0M####\n",
      "WKGgO8K&HK@RR@HVhAp5kZAWAFkJs<+%wEHHWXFC(....\"GHDHKZkHB#Dt'=\\\"',:.. .`_..:[7SKQ#0#&A5li[o3S@#Q@DWH&Q\n",
      "DD8bpEDRR&&RKWDG9Swln5pGDKWTu+=;TU@&&Zkl/.'..K@PJLA53ygKKNq\"\"+^'',,,',^^;(15VDB#QOTuJSUDDH@@KK&N##NN\n",
      "WD8XkkZK&&&&DDG$53IrTySO8ES3{}%[p8DWH8Z7+,'.+##HWB####NM#Bh+=',=:^^^,,~cj4DB#Q@@44O&##0Q##M0NN#&QB##\n",
      "@RKUOqGAK&RWDUq55n%a75SE8Odqq1={5UKXZd$u+,,,,bNB#####BHR#U7i>:;::)[r[ndHD8k5SVWN0#0MQ##MNN0#####N###\n",
      "&@@KUEPXAKHDWZk$55TfwSAK&DqyTv~'+*Pkjnr<:^',:'INM##N##M&ZF5CJwTZUg5JTan7y8B@R#N#&UB00M#NN00M0M##0M##\n",
      "RR@&WUZbOXHWOUUSS4g5wySSFHO55f+:~>7VDH8b5!\\:=,=/)yUDD&#R@@#RZUO5uwoIufo52WAAM##NNN0NMNN#MMM00N00#NNN\n",
      "8HKR&RDUVX8Z$OZOS5qESjY4CwT68Ww>+(}5qgZOXLJ{^\")<f5ED&QRW#@@REJ3nrvnJnTSDW@Q#DQ0M0M0###NMNMMMN000MM00\n",
      "W&&@&R@H8VGk655SZSSp57SA&@HESSGn%>z>iw58HZhuy7j$EEUUOOynf8@DKb5gClo5E&#N##N#0N#MNMMMNNNM0MMNM000NN0M\n",
      "R&&RR&R@R8EG55ypGS9VHHUAEAB&WUU5S5fVQMB##TRP8VV6kkpSS57nl]&M####Q0##N0##NN#N00N0MN0NMMNNN00NM00MMMNN\n",
      "@@&R&KDHWHkXUAY5k8AU8AUHWRQ&8EZdqWHR#RKWD#HEA#88ORDOSkgOnuiW0#0###NN0MMMNNM00MNM0MNNMNNNMM0NM0M0MMM0\n",
      "RR&R&KDWDX8AU4OZA888UUHW@@&RGp8KKUWDZW&@R###M#Q#####00MM0FtzbNM#000MMMNMN0N000MMN00MNMN0MM0NMN000MM0\n",
      "RRRRR&&UHWZEVAAZU8UEGDWWHKX8@WHUUAS7jJl7URR#N###0#NNN0MMN0#u{T0N0NNNMM00NMNM0MNM0NN00000NN00M00000MM\n",
      "AW@R&&KHKKKZEEU8XVEZUASkH#Q&&DA8A9wx%;?rJA8KRB####M0MMN0MNMNN5:#MMNNNNNM0MMNNMNMNNMM0MN0NM0NM0NN0NMM\n",
      "ER@@H8RW8AU8EE8HAOEAADKD@&Q&@W8Z57a*1uw372Sb4VZH&B###0MNMNMN00MmAMMMNNNMN0MNN000MMN0MN0NNMMMMMM0MNNN\n",
      "d8RKD&HHDDAKKAUAKDDDD8U8&B#RWDU8UEVXOVOGd9pU8UGEKRH8&##MNNMNN0MM#KM0MMM00NNNMMM0NMN0MMM00N00M0M0NNM0\n",
      "@DKKR&HWWHUHWKD8ADDU8XV8HK&DHKKHKHKWDKHHASkHKDF4ES5FWR&#N00000NM0NN0MMN0M000MNMNNMMN0MN0MNM0MNN0MNNM\n",
      "@KDKKHKWKWWHHHKHDDHAZX8DDAZ8DHUV4OZ8U8UA8VCEAU8GSw5OE8&#MNN0M0N0M00#M00N0NNN0NNNNM0N0MNNM0MM0N0MMM0M\n",
      "&@R&WAZOFgVDRDWWWDKHU8KKWGZZEFCnew354VWWUESbDWAS2SqEUDBB#MMNNMM000MM00MMM0MNM0MMMNMNMMMNM000MMMN00NM\n",
      "@@@@RDESkS5SZHDHZXEKHWDWWAd955Sphp52dEHUDZSq8E4ySEUD&@###0NMNMM0MMN0M0MMMMNN00MMM0000M0M0N0NN00NM000\n"
     ]
    }
   ],
   "source": [
    "for row in org_img_ascii_mat:\n",
    "    row_string = \"\"\n",
    "    for pixel in row:\n",
    "        row_string += chr(int(pixel))\n",
    "    print(row_string)\n",
    "    "
   ]
  },
  {
   "cell_type": "code",
   "execution_count": null,
   "metadata": {},
   "outputs": [],
   "source": []
  }
 ],
 "metadata": {
  "kernelspec": {
   "display_name": "Python 3",
   "language": "python",
   "name": "python3"
  },
  "language_info": {
   "codemirror_mode": {
    "name": "ipython",
    "version": 3
   },
   "file_extension": ".py",
   "mimetype": "text/x-python",
   "name": "python",
   "nbconvert_exporter": "python",
   "pygments_lexer": "ipython3",
   "version": "3.6.5"
  }
 },
 "nbformat": 4,
 "nbformat_minor": 2
}
